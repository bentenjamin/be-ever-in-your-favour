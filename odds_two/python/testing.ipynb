{
 "cells": [
  {
   "cell_type": "code",
   "execution_count": 3,
   "metadata": {},
   "outputs": [],
   "source": [
    "import polars as pl\n",
    "import sys"
   ]
  },
  {
   "cell_type": "code",
   "execution_count": null,
   "metadata": {},
   "outputs": [],
   "source": [
    "def write_out(var: str):\n",
    "    sys.stdout.write(var)\n",
    "    sys.stdout.write(\"\\n\")\n",
    "    sys.stdout.flush()\n",
    "\n",
    "for line in sys.stdin:\n",
    "    if line == \"q\\n\": break\n",
    "    if line == \"\\n\":\n",
    "        write_out('0')\n",
    "        continue\n",
    "    input_ints = line.rstrip().split(',')\n",
    "    write_out(pl.Series(\"arr\", input_ints, pl.Utf8)\n",
    "        .value_counts(parallel=True)\n",
    "        .filter(pl.col(\"counts\").mod(2) == 1).item(0,0)\n",
    "    )"
   ]
  },
  {
   "cell_type": "code",
   "execution_count": null,
   "metadata": {},
   "outputs": [],
   "source": [
    "line = \"1,1,2,2,3,3,4\\n\"\n",
    "input_ints = line.rstrip().split(',')\n",
    "print(\n",
    "    pl.LazyFrame([\"arrs\", pl.List(pl.Utf8)]).select(arrs = input_ints)\n",
    "    .with_row_count(\"id\").explode(\"arrs\")\n",
    "    .group_by(\"id\", \"arrs\", maintain_order=True).count()\n",
    "    .filter(pl.col(\"count\").mod(2) == 1)\n",
    "    .collect().item(0,1)\n",
    ")"
   ]
  },
  {
   "cell_type": "code",
   "execution_count": 9,
   "metadata": {},
   "outputs": [
    {
     "data": {
      "text/plain": [
       "'4'"
      ]
     },
     "execution_count": 9,
     "metadata": {},
     "output_type": "execute_result"
    }
   ],
   "source": [
    "line = \"1,1,2,2,3,3,4\\n\"\n",
    "input_ints = line.rstrip().split(',')\n",
    "(\n",
    "pl.Series(\"arr\", input_ints)\n",
    ".value_counts(parallel=True)\n",
    ".filter(pl.col(\"counts\").mod(2) == 1).item(0,0))"
   ]
  }
 ],
 "metadata": {
  "kernelspec": {
   "display_name": "playground-nZ9J7B2U",
   "language": "python",
   "name": "python3"
  },
  "language_info": {
   "codemirror_mode": {
    "name": "ipython",
    "version": 3
   },
   "file_extension": ".py",
   "mimetype": "text/x-python",
   "name": "python",
   "nbconvert_exporter": "python",
   "pygments_lexer": "ipython3",
   "version": "3.11.2"
  }
 },
 "nbformat": 4,
 "nbformat_minor": 2
}
