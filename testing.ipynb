{
 "cells": [
  {
   "cell_type": "code",
   "execution_count": null,
   "metadata": {},
   "outputs": [],
   "source": [
    "import polars as pl\n",
    "from time import perf_counter\n",
    "\n",
    "t_start = perf_counter()\n",
    "# Read file as string\n",
    "data: str\n",
    "with open('samples.json', 'r') as file:\n",
    "    data = file.read()\n",
    "\n",
    "t2 = perf_counter()\n",
    "\n",
    "result = pl.LazyFrame({\"arrs\": data}).select(pl.col(\"arrs\").str.json_extract(pl.List(pl.List(pl.UInt8))).explode()).with_columns(\n",
    "    id= pl.int_range(0, pl.col('arrs').count())\n",
    ").explode(\"arrs\").group_by('id').agg(pl.col('arrs').value_counts(parallel=True)).explode(\"arrs\").unnest('arrs').group_by('id').agg([\n",
    "    pl.col('arrs').filter(pl.col('counts').mod(2) == 1)\n",
    "]).explode('arrs').collect().get_column('arrs').to_list()\n",
    "\n",
    "# Stop the timer\n",
    "t3 = perf_counter()\n",
    "\n",
    "print(result)\n",
    "\n",
    "t_stop = perf_counter()\n",
    "\n",
    "print(f\"File reading {round((t2-t_start) * 1000, 2)}ms\")\n",
    "print(f\"Compute {round((t3-t2) * 1000, 2)}ms\")\n",
    "print(f\"Print {round((t_stop-t3) * 1000, 2)}ms\")\n"
   ]
  },
  {
   "cell_type": "code",
   "execution_count": null,
   "metadata": {},
   "outputs": [],
   "source": [
    "data: str\n",
    "with open('samples.json', 'r') as file:\n",
    "    data = file.read()"
   ]
  },
  {
   "cell_type": "code",
   "execution_count": null,
   "metadata": {},
   "outputs": [],
   "source": [
    "parsed_json = pl.DataFrame({\"arrs\": data}).select(pl.col(\"arrs\").str.json_extract(pl.List(pl.List(pl.UInt8))).explode())\n",
    "print(parsed_json)"
   ]
  },
  {
   "cell_type": "code",
   "execution_count": null,
   "metadata": {},
   "outputs": [],
   "source": [
    "ids = parsed_json.with_columns(\n",
    "    id= pl.int_range(0, pl.col('arrs').count())\n",
    ")\n",
    "print(ids)"
   ]
  },
  {
   "cell_type": "code",
   "execution_count": null,
   "metadata": {},
   "outputs": [],
   "source": [
    "counts = ids.explode(\"arrs\").group_by('id').agg(pl.col('arrs').value_counts(parallel=True)).explode(\"arrs\").unnest('arrs')\n",
    "print(counts)"
   ]
  },
  {
   "cell_type": "code",
   "execution_count": null,
   "metadata": {},
   "outputs": [],
   "source": [
    "find_odds = counts.group_by('id').agg([pl.col('arrs').filter(pl.col('counts').mod(2) == 1)])\n",
    "print(find_odds)"
   ]
  },
  {
   "cell_type": "code",
   "execution_count": null,
   "metadata": {},
   "outputs": [],
   "source": [
    "result = find_odds.explode('arrs').get_column('arrs').to_list()\n",
    "print(result)"
   ]
  }
 ],
 "metadata": {
  "kernelspec": {
   "display_name": "playground-nZ9J7B2U",
   "language": "python",
   "name": "python3"
  },
  "language_info": {
   "codemirror_mode": {
    "name": "ipython",
    "version": 3
   },
   "file_extension": ".py",
   "mimetype": "text/x-python",
   "name": "python",
   "nbconvert_exporter": "python",
   "pygments_lexer": "ipython3",
   "version": "3.11.2"
  },
  "orig_nbformat": 4
 },
 "nbformat": 4,
 "nbformat_minor": 2
}
